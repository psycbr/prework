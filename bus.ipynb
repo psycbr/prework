{
 "cells": [
  {
   "cell_type": "markdown",
   "metadata": {},
   "source": [
    "# Bus\n",
    "\n",
    "This bus has a passenger entry and exit control system to monitor the number of occupants it carries and thus detect when there is too high a capacity.\n",
    "\n",
    "At each stop the entry and exit of passengers is represented by a tuple consisting of two integer numbers.\n",
    "```\n",
    "bus_stop = (in, out)\n",
    "```\n",
    "The succession of stops is represented by a list of these tuples.\n",
    "```\n",
    "stops = [(in1, out1), (in2, out2), (in3, out3), (in4, out4)]\n",
    "```\n",
    "\n",
    "## Goals:\n",
    "* lists, tuples\n",
    "* while/for loops\n",
    "* minimum, maximum, length\n",
    "* average, standard deviation\n",
    "\n",
    "## Tasks\n",
    "1. Calculate the number of stops.\n",
    "2. Assign to a variable a list whose elements are the number of passengers at each stop (in-out),\n",
    "3. Find the maximum occupation of the bus.\n",
    "4. Calculate the average occupation. And the standard deviation.\n"
   ]
  },
  {
   "cell_type": "code",
   "execution_count": 4,
   "metadata": {},
   "outputs": [
    {
     "name": "stdout",
     "output_type": "stream",
     "text": [
      "Number of stops is 4\n",
      "Number of passengers in bus per stop is [5, 2, 3, 6]\n",
      "Maximum occupancy is 6\n",
      "Average occupancy is 4.0\n",
      "Standard deviation is 1.58\n"
     ]
    }
   ],
   "source": [
    "# variables\n",
    "\n",
    "stops = [(8, 3), (4, 7), (2, 1), (9, 6)]\n",
    "\n",
    "# 1. Calculate the number of stops\n",
    "\n",
    "total_stops = 0\n",
    "for stop in stops:\n",
    "    total_stops += 1\n",
    "    \n",
    "print('Number of stops is', total_stops)\n",
    "    \n",
    "# 2. Assign a variable a list whose elements are the number of passengers in each stop: \n",
    "# Each item depends on the previous item in the list + in - out.\n",
    "\n",
    "def total_pass (stop):\n",
    "    inbus = stop[0] - stop[1]\n",
    "    return inbus\n",
    "\n",
    "passperstop = []\n",
    "sumnet = 0\n",
    "for stop in stops:\n",
    "    net = total_pass (stop)\n",
    "    sumnet += net\n",
    "    passperstop.append(sumnet)\n",
    "\n",
    "print('Number of passengers in bus per stop is',passperstop)\n",
    "\n",
    "# 3. Find the maximum occupation of the bus.\n",
    "\n",
    "print('Maximum occupancy is',max(passperstop))\n",
    "\n",
    "# 4. Calculate the average occupation. And the standard deviation.\n",
    "\n",
    "Average = sum(passperstop)/len(passperstop)\n",
    "print(\"Average occupancy is\", Average)\n",
    "\n",
    "import statistics\n",
    "print('Standard deviation is', round(statistics.pstdev(passperstop), 2))"
   ]
  },
  {
   "cell_type": "code",
   "execution_count": null,
   "metadata": {},
   "outputs": [],
   "source": []
  }
 ],
 "metadata": {
  "kernelspec": {
   "display_name": "Python 3",
   "language": "python",
   "name": "python3"
  },
  "language_info": {
   "codemirror_mode": {
    "name": "ipython",
    "version": 3
   },
   "file_extension": ".py",
   "mimetype": "text/x-python",
   "name": "python",
   "nbconvert_exporter": "python",
   "pygments_lexer": "ipython3",
   "version": "3.7.3"
  }
 },
 "nbformat": 4,
 "nbformat_minor": 2
}
