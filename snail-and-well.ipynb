{
 "cells": [
  {
   "cell_type": "markdown",
   "metadata": {},
   "source": [
    "\n",
    "# Snail and well\n",
    "\n",
    "A snail falls at the bottom of a 125 cm well. Each day the snail rises 30 cm. But at night, while sleeping, slides 20 cm because the walls are wet. How many days does it take to escape from the well?\n",
    "\n",
    "TIP: http://puzzles.nigelcoldwell.co.uk/sixtytwo.htm"
   ]
  },
  {
   "cell_type": "markdown",
   "metadata": {},
   "source": [
    "## Solución"
   ]
  },
  {
   "cell_type": "code",
   "execution_count": 1,
   "metadata": {},
   "outputs": [
    {
     "name": "stdout",
     "output_type": "stream",
     "text": [
      "Days = 11\n"
     ]
    }
   ],
   "source": [
    "# Assign problem data to variables with representative names\n",
    "# well height, daily advance, night retreat, accumulated distance\n",
    "well_height = 125\n",
    "daily_advance = 30\n",
    "nightly_retreat = -20\n",
    "accumulated_distance = 0\n",
    "\n",
    "# Assign 0 to the variable that represents the solution\n",
    "\n",
    "days = 0\n",
    "\n",
    "# Write the code that solves the problem\n",
    "\n",
    "while accumulated_distance<well_height:\n",
    "    days += 1\n",
    "    accumulated_distance += daily_advance\n",
    "    \n",
    "    if accumulated_distance > well_height:\n",
    "        break\n",
    "    else: \n",
    "        accumulated_distance += nightly_retreat\n",
    "    \n",
    "# Print the result with print('Days =', days)\n",
    "   \n",
    "print('Days =', days)"
   ]
  },
  {
   "cell_type": "markdown",
   "metadata": {},
   "source": [
    "## Goals\n",
    "\n",
    "1. Treatment of variables\n",
    "2. Use of loop **while**\n",
    "3. Use of conditional **if-else**\n",
    "4. Print in console"
   ]
  },
  {
   "cell_type": "markdown",
   "metadata": {},
   "source": [
    "## Bonus\n",
    "The distance traveled by the snail is now defined by a list.\n",
    "```\n",
    "advance_cm = [30, 21, 33, 77, 44, 45, 23, 45, 12, 34, 55]\n",
    "```\n",
    "How long does it take to raise the well?\n",
    "\n",
    "What is its maximum displacement in one day? And its minimum?\n",
    "\n",
    "What is its average speed during the day?\n",
    "\n",
    "What is the standard deviation of its displacement during the day?"
   ]
  },
  {
   "cell_type": "code",
   "execution_count": 2,
   "metadata": {},
   "outputs": [
    {
     "name": "stdout",
     "output_type": "stream",
     "text": [
      "Days = 6\n",
      "Maximum daily advance is 77 cm\n",
      "Minimum daily advance is 12 cm\n",
      "Average progress is 38.091 cm\n",
      "Standard deviation is 17.16\n"
     ]
    }
   ],
   "source": [
    "# Assign problem data to variables with representative names\n",
    "# well height, daily advance, night retreat, accumulated distance\n",
    "\n",
    "well_height = 125\n",
    "daily_advance = [30, 21, 33, 77, 44, 45, 23, 45, 12, 34, 55]\n",
    "nightly_retreat = -20\n",
    "accumulated_distance = 0\n",
    "days = 0\n",
    "\n",
    "# Write the code that solves the problem\n",
    "\n",
    "for i in daily_advance:\n",
    "    accumulated_distance += i\n",
    "    days += 1\n",
    "    \n",
    "    if accumulated_distance > well_height:\n",
    "        break\n",
    "    else: \n",
    "        accumulated_distance += nightly_retreat\n",
    "    \n",
    "# Print the result with print('Days =', days)\n",
    "\n",
    "print('Days =', days)\n",
    "   \n",
    "# What is its maximum displacement in a day? And its minimum?\n",
    "\n",
    "print (\"Maximum daily advance is\", max(daily_advance), \"cm\")\n",
    "print (\"Minimum daily advance is\", min(daily_advance), \"cm\")\n",
    "\n",
    "# What is its average progress?\n",
    "\n",
    "Average = sum(daily_advance)/len(daily_advance)\n",
    "print (\"Average progress is\", round(Average, 3), \"cm\")\n",
    "\n",
    "# What is the standard deviation of your displacement during the day?\n",
    "\n",
    "import statistics\n",
    "print('Standard deviation is', round(statistics.pstdev(daily_advance), 2))\n"
   ]
  }
 ],
 "metadata": {
  "kernelspec": {
   "display_name": "Python 3",
   "language": "python",
   "name": "python3"
  },
  "language_info": {
   "codemirror_mode": {
    "name": "ipython",
    "version": 3
   },
   "file_extension": ".py",
   "mimetype": "text/x-python",
   "name": "python",
   "nbconvert_exporter": "python",
   "pygments_lexer": "ipython3",
   "version": "3.7.3"
  }
 },
 "nbformat": 4,
 "nbformat_minor": 2
}
